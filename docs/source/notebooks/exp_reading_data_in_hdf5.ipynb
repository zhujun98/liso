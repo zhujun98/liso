{
 "cells": [
  {
   "cell_type": "markdown",
   "metadata": {},
   "source": [
    "# Reading experimental data in HDF5 formats"
   ]
  },
  {
   "cell_type": "code",
   "execution_count": 1,
   "metadata": {},
   "outputs": [],
   "source": [
    "from liso import open_run"
   ]
  },
  {
   "cell_type": "code",
   "execution_count": 2,
   "metadata": {},
   "outputs": [
    {
     "name": "stdout",
     "output_type": "stream",
     "text": [
      "# of macro pulses:      524\n",
      "\n",
      "Control channels (8):\n",
      "  -  XFEL.MAGNETS/MAGNET.ML/QI.63.I1D/KICK_MRAD.SP\n",
      "  -  XFEL.MAGNETS/MAGNET.ML/QI.64.I1D/KICK_MRAD.SP\n",
      "  -  XFEL.RF/LLRF.CONTROLLER/VS.A1.I1/AMPL.SAMPLE\n",
      "  -  XFEL.RF/LLRF.CONTROLLER/VS.A1.I1/PHASE.SAMPLE\n",
      "  -  XFEL.RF/LLRF.CONTROLLER/VS.AH1.I1/AMPL.SAMPLE\n",
      "  -  XFEL.RF/LLRF.CONTROLLER/VS.AH1.I1/PHASE.SAMPLE\n",
      "  -  XFEL.RF/LLRF.CONTROLLER/VS.GUN.I1/AMPL.SAMPLE\n",
      "  -  XFEL.RF/LLRF.CONTROLLER/VS.GUN.I1/PHASE.SAMPLE\n",
      "\n",
      "Diagnostic channels (5):\n",
      "  -  XFEL.DIAG/CAMERA/OTRC.64.I1D/IMAGE_EXT_ZMQ\n",
      "  -  XFEL.DIAG/CHARGE.ML/TORA.25.I1/CHARGE.ALL\n",
      "  -  XFEL.SDIAG/BAM/47.I1/LOW_CHARGE.RESOLUTION\n",
      "  -  XFEL.SDIAG/BAM/47.I1/LOW_CHARGE_SINGLEBUNCH_ARRIVAL_TIME.1\n",
      "  -  XFEL.SDIAG/BAM/47.I1/SINGLEBUNCH_NUMBER_FOR_ARRIVAL_TIME_HISTORY.1\n"
     ]
    }
   ],
   "source": [
    "run = open_run(\"/home/jun/r0004\")\n",
    "\n",
    "run.info()"
   ]
  },
  {
   "cell_type": "markdown",
   "metadata": {},
   "source": [
    "## Obtain general information"
   ]
  },
  {
   "cell_type": "code",
   "execution_count": 3,
   "metadata": {},
   "outputs": [
    {
     "data": {
      "text/plain": [
       "array([911342622, 911342674, 911342984, 911343000, 911343016, 911343082,\n",
       "       911343088, 911343218, 911343344, 911343350], dtype=uint64)"
      ]
     },
     "execution_count": 3,
     "metadata": {},
     "output_type": "execute_result"
    }
   ],
   "source": [
    "run.pulse_ids[:10]"
   ]
  },
  {
   "cell_type": "code",
   "execution_count": 4,
   "metadata": {},
   "outputs": [
    {
     "data": {
      "text/plain": [
       "frozenset({'XFEL.MAGNETS/MAGNET.ML/QI.63.I1D/KICK_MRAD.SP',\n",
       "           'XFEL.MAGNETS/MAGNET.ML/QI.64.I1D/KICK_MRAD.SP',\n",
       "           'XFEL.RF/LLRF.CONTROLLER/VS.A1.I1/AMPL.SAMPLE',\n",
       "           'XFEL.RF/LLRF.CONTROLLER/VS.A1.I1/PHASE.SAMPLE',\n",
       "           'XFEL.RF/LLRF.CONTROLLER/VS.AH1.I1/AMPL.SAMPLE',\n",
       "           'XFEL.RF/LLRF.CONTROLLER/VS.AH1.I1/PHASE.SAMPLE',\n",
       "           'XFEL.RF/LLRF.CONTROLLER/VS.GUN.I1/AMPL.SAMPLE',\n",
       "           'XFEL.RF/LLRF.CONTROLLER/VS.GUN.I1/PHASE.SAMPLE'})"
      ]
     },
     "execution_count": 4,
     "metadata": {},
     "output_type": "execute_result"
    }
   ],
   "source": [
    "run.control_channels"
   ]
  },
  {
   "cell_type": "code",
   "execution_count": 5,
   "metadata": {},
   "outputs": [
    {
     "data": {
      "text/plain": [
       "frozenset({'XFEL.DIAG/CAMERA/OTRC.64.I1D/IMAGE_EXT_ZMQ',\n",
       "           'XFEL.DIAG/CHARGE.ML/TORA.25.I1/CHARGE.ALL',\n",
       "           'XFEL.SDIAG/BAM/47.I1/LOW_CHARGE.RESOLUTION',\n",
       "           'XFEL.SDIAG/BAM/47.I1/LOW_CHARGE_SINGLEBUNCH_ARRIVAL_TIME.1',\n",
       "           'XFEL.SDIAG/BAM/47.I1/SINGLEBUNCH_NUMBER_FOR_ARRIVAL_TIME_HISTORY.1'})"
      ]
     },
     "execution_count": 5,
     "metadata": {},
     "output_type": "execute_result"
    }
   ],
   "source": [
    "run.diagnostic_channels"
   ]
  },
  {
   "cell_type": "markdown",
   "metadata": {},
   "source": [
    "## Access a single macropulse data"
   ]
  },
  {
   "cell_type": "code",
   "execution_count": 6,
   "metadata": {},
   "outputs": [
    {
     "data": {
      "text/plain": [
       "{'XFEL.RF/LLRF.CONTROLLER/VS.A1.I1/PHASE.SAMPLE': 1.9274961,\n",
       " 'XFEL.RF/LLRF.CONTROLLER/VS.AH1.I1/AMPL.SAMPLE': 15.162286,\n",
       " 'XFEL.RF/LLRF.CONTROLLER/VS.A1.I1/AMPL.SAMPLE': 136.52525,\n",
       " 'XFEL.MAGNETS/MAGNET.ML/QI.63.I1D/KICK_MRAD.SP': 1065.1,\n",
       " 'XFEL.RF/LLRF.CONTROLLER/VS.GUN.I1/PHASE.SAMPLE': -47.904385,\n",
       " 'XFEL.RF/LLRF.CONTROLLER/VS.AH1.I1/PHASE.SAMPLE': -178.22366,\n",
       " 'XFEL.MAGNETS/MAGNET.ML/QI.64.I1D/KICK_MRAD.SP': -1.248001e-07,\n",
       " 'XFEL.RF/LLRF.CONTROLLER/VS.GUN.I1/AMPL.SAMPLE': 56.67717,\n",
       " 'XFEL.DIAG/CAMERA/OTRC.64.I1D/IMAGE_EXT_ZMQ': array([[0, 0, 0, ..., 1, 0, 0],\n",
       "        [0, 1, 0, ..., 0, 1, 2],\n",
       "        [0, 0, 1, ..., 0, 0, 1],\n",
       "        ...,\n",
       "        [0, 0, 0, ..., 3, 0, 0],\n",
       "        [0, 1, 1, ..., 0, 0, 0],\n",
       "        [3, 0, 2, ..., 0, 0, 1]], dtype=uint16),\n",
       " 'XFEL.SDIAG/BAM/47.I1/SINGLEBUNCH_NUMBER_FOR_ARRIVAL_TIME_HISTORY.1': 1,\n",
       " 'XFEL.SDIAG/BAM/47.I1/LOW_CHARGE_SINGLEBUNCH_ARRIVAL_TIME.1': 2.9433162,\n",
       " 'XFEL.SDIAG/BAM/47.I1/LOW_CHARGE.RESOLUTION': 35.056053,\n",
       " 'XFEL.DIAG/CHARGE.ML/TORA.25.I1/CHARGE.ALL': 0.25935}"
      ]
     },
     "execution_count": 6,
     "metadata": {},
     "output_type": "execute_result"
    }
   ],
   "source": [
    "# From index\n",
    "pid, data = run.from_index(2)\n",
    "assert pid == run.pulse_ids[2]\n",
    "\n",
    "data"
   ]
  },
  {
   "cell_type": "code",
   "execution_count": 7,
   "metadata": {},
   "outputs": [],
   "source": [
    "# From macropulse ID\n",
    "pid, data = run.from_id(911342984)\n",
    "assert pid == 911342984"
   ]
  },
  {
   "cell_type": "markdown",
   "metadata": {},
   "source": [
    "## Access channel data"
   ]
  },
  {
   "cell_type": "code",
   "execution_count": 8,
   "metadata": {},
   "outputs": [],
   "source": [
    "image_channel = run.channel(\"XFEL.DIAG/CAMERA/OTRC.64.I1D/IMAGE_EXT_ZMQ\")"
   ]
  },
  {
   "cell_type": "code",
   "execution_count": 9,
   "metadata": {},
   "outputs": [
    {
     "data": {
      "text/plain": [
       "(524, 1750, 2330)"
      ]
     },
     "execution_count": 9,
     "metadata": {},
     "output_type": "execute_result"
    }
   ],
   "source": [
    "img_data = image_channel.numpy()\n",
    "\n",
    "img_data.shape"
   ]
  }
 ],
 "metadata": {
  "kernelspec": {
   "display_name": "liso",
   "language": "python",
   "name": "liso"
  },
  "language_info": {
   "codemirror_mode": {
    "name": "ipython",
    "version": 3
   },
   "file_extension": ".py",
   "mimetype": "text/x-python",
   "name": "python",
   "nbconvert_exporter": "python",
   "pygments_lexer": "ipython3",
   "version": "3.7.8"
  }
 },
 "nbformat": 4,
 "nbformat_minor": 4
}