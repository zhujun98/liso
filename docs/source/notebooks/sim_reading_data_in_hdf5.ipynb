{
 "cells": [
  {
   "cell_type": "markdown",
   "metadata": {},
   "source": [
    "# Reading simulated data in HDF5 formats"
   ]
  },
  {
   "cell_type": "code",
   "execution_count": 1,
   "metadata": {},
   "outputs": [],
   "source": [
    "from liso import open_sim"
   ]
  },
  {
   "cell_type": "code",
   "execution_count": 2,
   "metadata": {},
   "outputs": [
    {
     "name": "stdout",
     "output_type": "stream",
     "text": [
      "# of simulations:      12\n",
      "\n",
      "Control channels (4):\n",
      "  -  gun/gun_gradient\n",
      "  -  gun/gun_phase\n",
      "  -  gun/tws_gradient\n",
      "  -  gun/tws_phase\n",
      "\n",
      "Phasespace channels (1):\n",
      "  -  gun/out\n"
     ]
    }
   ],
   "source": [
    "sim = open_sim(\"../../../examples/astra_scan/s0001\")\n",
    "\n",
    "sim.info()"
   ]
  },
  {
   "cell_type": "markdown",
   "metadata": {},
   "source": [
    "## Obtain general information"
   ]
  },
  {
   "cell_type": "code",
   "execution_count": 3,
   "metadata": {},
   "outputs": [
    {
     "data": {
      "text/plain": [
       "array([ 2,  1,  4,  3,  5,  6,  7,  8,  9, 10, 11, 12], dtype=uint64)"
      ]
     },
     "execution_count": 3,
     "metadata": {},
     "output_type": "execute_result"
    }
   ],
   "source": [
    "sim.sim_ids"
   ]
  },
  {
   "cell_type": "code",
   "execution_count": 4,
   "metadata": {},
   "outputs": [
    {
     "data": {
      "text/plain": [
       "frozenset({'gun/gun_gradient',\n",
       "           'gun/gun_phase',\n",
       "           'gun/tws_gradient',\n",
       "           'gun/tws_phase'})"
      ]
     },
     "execution_count": 4,
     "metadata": {},
     "output_type": "execute_result"
    }
   ],
   "source": [
    "sim.control_channels"
   ]
  },
  {
   "cell_type": "code",
   "execution_count": 5,
   "metadata": {},
   "outputs": [
    {
     "data": {
      "text/plain": [
       "frozenset({'gun/out'})"
      ]
     },
     "execution_count": 5,
     "metadata": {},
     "output_type": "execute_result"
    }
   ],
   "source": [
    "sim.phasespace_channels"
   ]
  },
  {
   "cell_type": "markdown",
   "metadata": {},
   "source": [
    "## Access a single simulation result"
   ]
  },
  {
   "cell_type": "code",
   "execution_count": 6,
   "metadata": {},
   "outputs": [
    {
     "data": {
      "text/plain": [
       "{'gun/tws_phase': -90.168686,\n",
       " 'gun/gun_phase': -9.759125,\n",
       " 'gun/gun_gradient': 126.57121,\n",
       " 'gun/tws_gradient': 28.701859,\n",
       " 'gun/out': <liso.proc.phasespace.Phasespace at 0x7f1751afef90>}"
      ]
     },
     "execution_count": 6,
     "metadata": {},
     "output_type": "execute_result"
    }
   ],
   "source": [
    "# From index\n",
    "sid, data = sim.from_index(2)\n",
    "assert sid == sim.sim_ids[2]\n",
    "\n",
    "data"
   ]
  },
  {
   "cell_type": "code",
   "execution_count": 7,
   "metadata": {},
   "outputs": [],
   "source": [
    "# From simulation ID\n",
    "sid, data = sim.from_id(1)\n",
    "assert sid == 1"
   ]
  },
  {
   "cell_type": "markdown",
   "metadata": {},
   "source": [
    "## Access channel data"
   ]
  },
  {
   "cell_type": "markdown",
   "metadata": {},
   "source": [
    "#### Control channel"
   ]
  },
  {
   "cell_type": "code",
   "execution_count": 8,
   "metadata": {},
   "outputs": [],
   "source": [
    "gun_gradient_channel = sim.channel(\"gun/gun_gradient\")"
   ]
  },
  {
   "cell_type": "code",
   "execution_count": 9,
   "metadata": {},
   "outputs": [
    {
     "data": {
      "text/plain": [
       "array([119.89723 , 119.79218 , 126.57121 , 120.25057 , 126.629486,\n",
       "       126.602135, 133.48413 , 133.60179 , 133.207   , 140.03694 ,\n",
       "       140.05751 , 139.79796 ], dtype=float32)"
      ]
     },
     "execution_count": 9,
     "metadata": {},
     "output_type": "execute_result"
    }
   ],
   "source": [
    "# convert the channel data to numpy array\n",
    "gun_gradient_channel.numpy()"
   ]
  },
  {
   "cell_type": "markdown",
   "metadata": {},
   "source": [
    "#### Phasespace channel"
   ]
  },
  {
   "cell_type": "code",
   "execution_count": 10,
   "metadata": {},
   "outputs": [],
   "source": [
    "out_x_channel = sim.channel(\"gun/out\", 'x')"
   ]
  },
  {
   "cell_type": "code",
   "execution_count": 11,
   "metadata": {},
   "outputs": [
    {
     "data": {
      "text/plain": [
       "array([[[ 1.28036786e-08,  9.88629741e-05, -1.06629905e-04, ...,\n",
       "          6.15140007e-05, -3.26903398e-04, -5.39911480e-04]],\n",
       "\n",
       "       [[ 7.09292839e-09,  5.10445742e-05, -6.85575333e-05, ...,\n",
       "          1.10543007e-04, -2.00049388e-04, -4.14134403e-04]],\n",
       "\n",
       "       [[ 1.39342955e-08,  8.27889731e-05, -9.48883950e-05, ...,\n",
       "          1.15470304e-04, -2.57691407e-04, -5.11017904e-04]],\n",
       "\n",
       "       ...,\n",
       "\n",
       "       [[ 2.86095269e-08,  1.35965724e-04, -1.26268681e-04, ...,\n",
       "          1.38502748e-04, -3.13041940e-04, -6.31381217e-04]],\n",
       "\n",
       "       [[ 4.12047741e-08,  2.01677470e-04, -1.68134351e-04, ...,\n",
       "          8.12973208e-05, -4.59484021e-04, -7.80738915e-04]],\n",
       "\n",
       "       [[ 4.75849888e-08,  2.49665821e-04, -1.96608664e-04, ...,\n",
       "          2.58773940e-05, -5.91125733e-04, -8.81490778e-04]]])"
      ]
     },
     "execution_count": 11,
     "metadata": {},
     "output_type": "execute_result"
    }
   ],
   "source": [
    "# convert the channel data to numpy array\n",
    "out_x_channel.numpy()"
   ]
  }
 ],
 "metadata": {
  "kernelspec": {
   "display_name": "liso",
   "language": "python",
   "name": "liso"
  },
  "language_info": {
   "codemirror_mode": {
    "name": "ipython",
    "version": 3
   },
   "file_extension": ".py",
   "mimetype": "text/x-python",
   "name": "python",
   "nbconvert_exporter": "python",
   "pygments_lexer": "ipython3",
   "version": "3.7.8"
  },
  "nbsphinx-toctree": {
   "maxdepth": 1
  }
 },
 "nbformat": 4,
 "nbformat_minor": 4
}