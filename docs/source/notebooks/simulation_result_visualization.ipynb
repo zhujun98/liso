{
 "cells": [
  {
   "cell_type": "code",
   "execution_count": null,
   "metadata": {},
   "outputs": [],
   "source": [
    "%load_ext autoreload\n",
    "%autoreload 2\n",
    "\n",
    "import os.path as osp\n",
    "\n",
    "%matplotlib inline    \n",
    "import matplotlib.pyplot as plt\n",
    "\n",
    "import numpy as np\n",
    "\n",
    "from liso import parse_astra_phasespace, parse_astra_line\n",
    "from liso.visualization import LinePlot, PhasespacePlot\n",
    "\n",
    "DATA_FOLDER = \"../../liso/proc/tests/astra_output\""
   ]
  },
  {
   "cell_type": "code",
   "execution_count": null,
   "metadata": {},
   "outputs": [],
   "source": [
    "data = parse_astra_phasespace(osp.join(DATA_FOLDER, \"astra.out\"))"
   ]
  },
  {
   "cell_type": "markdown",
   "metadata": {},
   "source": [
    "## Visulaize in scattering plot"
   ]
  },
  {
   "cell_type": "code",
   "execution_count": null,
   "metadata": {},
   "outputs": [],
   "source": [
    "fig, axes = plt.subplots(2, 2, figsize=(12, 10))\n",
    "plt.subplots_adjust(bottom=0.1, top=0.9, left=0.1, right=0.9, hspace=0.3, wspace=0.3)\n",
    "\n",
    "ps = PhasespacePlot(data)\n",
    "ps.plot('x', 'y', ax=axes[0, 0])\n",
    "ps.plot('x', 'xp', ax=axes[0, 1])\n",
    "ps.plot('y', 'yp', ax=axes[1, 0], show_parameters=False)\n",
    "ps.plot('dt', 'delta', x_unit='ps', ax=axes[1, 1], show_current=True)\n",
    "\n",
    "plt.tight_layout()"
   ]
  },
  {
   "cell_type": "markdown",
   "metadata": {},
   "source": [
    "## Visualize as image data"
   ]
  },
  {
   "cell_type": "code",
   "execution_count": null,
   "metadata": {},
   "outputs": [],
   "source": [
    "fig, axes = plt.subplots(2, 2, figsize=(12, 10))\n",
    "plt.subplots_adjust(bottom=0.1, top=0.9, left=0.1, right=0.9, hspace=0.3, wspace=0.3)\n",
    "\n",
    "ps.imshow('x', 'y', ax=axes[0, 0])\n",
    "ps.imshow('x', 'xp', ax=axes[0, 1])\n",
    "ps.imshow('y', 'yp', ax=axes[1, 0], v_min=0, v_max=2)\n",
    "ps.imshow('dt', 'delta', x_unit='ps', x_range=(-8, 8), y_range=(-0.8, 0.2), ax=axes[1, 1])\n",
    "\n",
    "plt.tight_layout()"
   ]
  },
  {
   "cell_type": "markdown",
   "metadata": {},
   "source": [
    "## Visualize beam parameter evolutions"
   ]
  },
  {
   "cell_type": "code",
   "execution_count": null,
   "metadata": {},
   "outputs": [],
   "source": [
    "line = parse_astra_line(osp.join(DATA_FOLDER, \"injector\"))"
   ]
  },
  {
   "cell_type": "code",
   "execution_count": null,
   "metadata": {},
   "outputs": [],
   "source": [
    "lp = LinePlot(line, figsize=(16, 4))\n",
    "lp.plot('gamma')\n",
    "\n",
    "fig, ax = plt.subplots(4, 2, figsize=(16, 16))\n",
    "plt.subplots_adjust(bottom=0.1, top=0.9, left=0.1, right=0.9, hspace=0.30, wspace=0.25)\n",
    "lp.plot('Sz', ax=ax[0, 0])\n",
    "lp.plot('St', ax=ax[0, 1])\n",
    "lp.plot('Sde', ax=ax[1, 0])\n",
    "lp.plot('Sx', 'Sy', ax=ax[1, 1])\n",
    "lp.plot('betax', 'betay', ax=ax[2, 0])\n",
    "lp.plot('alphax', 'alphay', ax=ax[2, 1])\n",
    "lp.plot('emitx', 'emity', ax=ax[3, 0])\n",
    "lp.plot('emitx_tr', 'emity_tr', ax=ax[3, 1])"
   ]
  },
  {
   "cell_type": "code",
   "execution_count": null,
   "metadata": {},
   "outputs": [],
   "source": []
  }
 ],
 "metadata": {
  "kernelspec": {
   "display_name": "liso",
   "language": "python",
   "name": "liso"
  },
  "language_info": {
   "codemirror_mode": {
    "name": "ipython",
    "version": 3
   },
   "file_extension": ".py",
   "mimetype": "text/x-python",
   "name": "python",
   "nbconvert_exporter": "python",
   "pygments_lexer": "ipython3",
   "version": "3.7.8"
  }
 },
 "nbformat": 4,
 "nbformat_minor": 4
}
